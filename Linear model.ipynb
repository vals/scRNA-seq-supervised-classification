{
 "cells": [
  {
   "cell_type": "code",
   "execution_count": 1,
   "metadata": {},
   "outputs": [
    {
     "name": "stdout",
     "output_type": "stream",
     "text": [
      "Populating the interactive namespace from numpy and matplotlib\n"
     ]
    },
    {
     "name": "stderr",
     "output_type": "stream",
     "text": [
      "/Users/vale/anaconda/lib/python3.6/site-packages/statsmodels/compat/pandas.py:56: FutureWarning: The pandas.core.datetools module is deprecated and will be removed in a future version. Please use the pandas.tseries module instead.\n",
      "  from pandas.core import datetools\n"
     ]
    }
   ],
   "source": [
    "%pylab inline\n",
    "import pandas as pd\n",
    "\n",
    "import plotnine as p"
   ]
  },
  {
   "cell_type": "code",
   "execution_count": 4,
   "metadata": {},
   "outputs": [],
   "source": [
    "s_sample_info = pd.read_csv('segerstolpe_sample_info.csv', index_col=0)"
   ]
  },
  {
   "cell_type": "code",
   "execution_count": 5,
   "metadata": {
    "collapsed": true
   },
   "outputs": [],
   "source": [
    "s_expr = pd.read_csv('segerstolpe_exprs.csv', index_col=0)"
   ]
  },
  {
   "cell_type": "code",
   "execution_count": 291,
   "metadata": {},
   "outputs": [],
   "source": [
    "s_expr['gene'] = s_expr.index"
   ]
  },
  {
   "cell_type": "code",
   "execution_count": 294,
   "metadata": {},
   "outputs": [],
   "source": [
    "s_long = s_expr.melt(id_vars=['gene'], var_name='cell', value_name='log2cpm')"
   ]
  },
  {
   "cell_type": "code",
   "execution_count": 295,
   "metadata": {
    "collapsed": true
   },
   "outputs": [],
   "source": [
    "s_long.to_csv('long_exprs.csv')"
   ]
  },
  {
   "cell_type": "code",
   "execution_count": 315,
   "metadata": {
    "collapsed": true
   },
   "outputs": [],
   "source": [
    "s_long_s = s_long.replace(0., np.nan).dropna()"
   ]
  },
  {
   "cell_type": "code",
   "execution_count": 316,
   "metadata": {
    "collapsed": true
   },
   "outputs": [],
   "source": [
    "s_long_s.to_csv('segerstolpe_long_exprs.csv', index=False)"
   ]
  },
  {
   "cell_type": "code",
   "execution_count": 318,
   "metadata": {},
   "outputs": [],
   "source": [
    "s_sample_info.index.name = 'cell'"
   ]
  },
  {
   "cell_type": "code",
   "execution_count": 320,
   "metadata": {},
   "outputs": [],
   "source": [
    "s_sample_info.to_csv('segerstolpe_sample_info2.csv')"
   ]
  },
  {
   "cell_type": "code",
   "execution_count": null,
   "metadata": {
    "collapsed": true
   },
   "outputs": [],
   "source": []
  },
  {
   "cell_type": "code",
   "execution_count": null,
   "metadata": {
    "collapsed": true
   },
   "outputs": [],
   "source": []
  },
  {
   "cell_type": "code",
   "execution_count": null,
   "metadata": {
    "collapsed": true
   },
   "outputs": [],
   "source": []
  },
  {
   "cell_type": "code",
   "execution_count": 244,
   "metadata": {
    "collapsed": true
   },
   "outputs": [],
   "source": [
    "from sklearn.model_selection import train_test_split"
   ]
  },
  {
   "cell_type": "code",
   "execution_count": 247,
   "metadata": {
    "scrolled": false
   },
   "outputs": [],
   "source": [
    "X_train, X_test, y_train, y_test = train_test_split(s_expr.T, s_sample_info['cell_type1'], test_size=.2)"
   ]
  },
  {
   "cell_type": "code",
   "execution_count": 249,
   "metadata": {},
   "outputs": [],
   "source": [
    "from sklearn.linear_model import LogisticRegression"
   ]
  },
  {
   "cell_type": "code",
   "execution_count": 250,
   "metadata": {
    "collapsed": true
   },
   "outputs": [],
   "source": [
    "lr = LogisticRegression(C=0.05, penalty='l1', n_jobs=-1)"
   ]
  },
  {
   "cell_type": "code",
   "execution_count": 251,
   "metadata": {},
   "outputs": [
    {
     "data": {
      "text/plain": [
       "LogisticRegression(C=0.05, class_weight=None, dual=False, fit_intercept=True,\n",
       "          intercept_scaling=1, max_iter=100, multi_class='ovr', n_jobs=-1,\n",
       "          penalty='l1', random_state=None, solver='liblinear', tol=0.0001,\n",
       "          verbose=0, warm_start=False)"
      ]
     },
     "execution_count": 251,
     "metadata": {},
     "output_type": "execute_result"
    }
   ],
   "source": [
    "lr.fit(X_train, y_train)"
   ]
  },
  {
   "cell_type": "code",
   "execution_count": 252,
   "metadata": {},
   "outputs": [
    {
     "data": {
      "text/plain": [
       "array(['MHC class II', 'PSC', 'acinar', 'alpha', 'beta', 'co-expression',\n",
       "       'delta', 'ductal', 'endothelial', 'epsilon', 'gamma', 'mast',\n",
       "       'not applicable', 'unclassified', 'unclassified endocrine'], dtype=object)"
      ]
     },
     "execution_count": 252,
     "metadata": {},
     "output_type": "execute_result"
    }
   ],
   "source": [
    "lr.classes_"
   ]
  },
  {
   "cell_type": "code",
   "execution_count": 253,
   "metadata": {},
   "outputs": [
    {
     "data": {
      "text/plain": [
       "(15, 25525)"
      ]
     },
     "execution_count": 253,
     "metadata": {},
     "output_type": "execute_result"
    }
   ],
   "source": [
    "lr.coef_.shape"
   ]
  },
  {
   "cell_type": "code",
   "execution_count": 255,
   "metadata": {
    "collapsed": true
   },
   "outputs": [],
   "source": [
    "y_hat = lr.predict(X_train)"
   ]
  },
  {
   "cell_type": "code",
   "execution_count": 256,
   "metadata": {},
   "outputs": [
    {
     "data": {
      "text/plain": [
       "array(['alpha', 'acinar', 'beta', ..., 'not applicable', 'not applicable',\n",
       "       'alpha'], dtype=object)"
      ]
     },
     "execution_count": 256,
     "metadata": {},
     "output_type": "execute_result"
    }
   ],
   "source": [
    "y_hat"
   ]
  },
  {
   "cell_type": "code",
   "execution_count": 257,
   "metadata": {
    "collapsed": true
   },
   "outputs": [],
   "source": [
    "from sklearn import metrics"
   ]
  },
  {
   "cell_type": "code",
   "execution_count": 258,
   "metadata": {},
   "outputs": [
    {
     "name": "stdout",
     "output_type": "stream",
     "text": [
      "[[   4    0    0    0    0    0    0    0    0    0    0    0    1    0\n",
      "     0]\n",
      " [   0   43    0    0    0    0    0    0    0    0    0    0    0    0\n",
      "     0]\n",
      " [   0    0  143    1    0    0    0    0    0    0    0    0    0    0\n",
      "     0]\n",
      " [   0    0    0  711    0    0    0    0    0    0    0    0    0    0\n",
      "     0]\n",
      " [   0    0    0    0  216    0    0    0    0    0    0    0    0    0\n",
      "     0]\n",
      " [   0    0    0    1    3   24    1    0    0    0    0    0    0    0\n",
      "     0]\n",
      " [   0    0    0    0    0    0   86    0    0    0    0    0    0    0\n",
      "     0]\n",
      " [   0    0    0    0    0    0    0  307    0    0    0    0    0    0\n",
      "     0]\n",
      " [   0    0    0    0    0    0    0    0   12    0    0    0    0    0\n",
      "     0]\n",
      " [   0    0    0    0    0    0    0    0    0    6    0    0    0    0\n",
      "     0]\n",
      " [   0    0    0    0    0    0    0    0    0    0  157    0    0    0\n",
      "     0]\n",
      " [   0    0    0    0    0    0    0    0    0    0    0    5    0    0\n",
      "     0]\n",
      " [   0    1    4    9    3    0    1    5    1    0    2    0 1028    0\n",
      "     0]\n",
      " [   0    1    0    0    0    0    0    0    0    0    0    0    0    0\n",
      "     0]\n",
      " [   0    0    0    0    0    0    0    0    0    0    0    0   20    0\n",
      "    15]]\n"
     ]
    }
   ],
   "source": [
    "print(metrics.confusion_matrix(y_train, y_hat))"
   ]
  },
  {
   "cell_type": "code",
   "execution_count": 259,
   "metadata": {},
   "outputs": [
    {
     "data": {
      "text/plain": [
       "0.98078975453575246"
      ]
     },
     "execution_count": 259,
     "metadata": {},
     "output_type": "execute_result"
    }
   ],
   "source": [
    "lr.score(X_train, y_train)"
   ]
  },
  {
   "cell_type": "code",
   "execution_count": 264,
   "metadata": {},
   "outputs": [
    {
     "data": {
      "text/plain": [
       "99.611361410381988"
      ]
     },
     "execution_count": 264,
     "metadata": {},
     "output_type": "execute_result"
    }
   ],
   "source": [
    "sparsity = np.mean(lr.coef_.ravel() == 0) * 100\n",
    "sparsity"
   ]
  },
  {
   "cell_type": "code",
   "execution_count": 265,
   "metadata": {
    "scrolled": false
   },
   "outputs": [
    {
     "name": "stdout",
     "output_type": "stream",
     "text": [
      "PRUNE, SFPQ, RAB3B, LEPR, SMG5, MTR, RGS7, LINC01128, SZT2, CMPK1, RAVER2, LPHN2, IGSF3, NOTCH2NL, SEC22B, BCL9, CTSS, POGZ, IL6R, ELF3, SUSD4, GNG4, SAMD11, VWA1, TPRG1L, ENO1, TMEM51, ZBTB17, SZRD1, RSRP1, WDTC1, LAPTM5, TINAGL1, MEAF6, CAP1, ZMPSTE24, PPIH, TSPAN1, PDZK1IP1, TACSTD2, HHLA3, FUBP1, RPL5, S1PR1, SARS, CEPT1, LOC643355, MOV10, BCAS2, CD58, RBM8A, ANP32E, CTSK, S100A10, S100A6, S100A14, FLAD1, SCAMP3, MRPL24, RGS4, GAS5, LAMC2, IVNS1ABP, RGS2, RNPEP, C1orf116, PFKFB2, CD55, CD46, HSD11B1, BROX, RNF187, AGT, GNPAT, NTPCR, ERO1LB, ASAP2, LCLAT1, EML4, SPTBN1, AAK1, TTC31, FHL2, TMEM37, ITGB6, PSMD14, FAP, DPP4, CHN1, GLS, GTF3C3, CYP27A1, FARSB, WDFY1, ODC1, SDC1, KCNK3, GTF3C2, KRTCAP3, SLC4A1AP, SLC3A1, MTHFD2, REG1B, TMSB10, GGCX, MRPS5, LINC00342, NEURL3, FBLN7, PSD4, STEAP3, NMI, TNFAIP6, GCG, GALNT3, G6PC2, ATP5G3, COL3A1, SLC40A1, ASNSD1, IGFBP5, FEV, CRYBA2, SCG2, SEPT2, ATG7, FNDC3B, MECOM, KCNMB2, OSBPL10, OXSR1, DCP1A, SENP7, KPNA1, ITGB5, MRPL3, AMOTL2, PFN2, SELT, SPTSSB, BCHE, SERPINI1, TNFSF10, KLHL24, LMCD1, GHRL, XPC, BTD, CMTM7, EPM2AIP1, HIGD1A, GPX1, IFRD2, GNAI2, GNL3, TIMMDC1, SEC61A1, SLC25A36, CPA3, TM4SF4, SST, CLDN1, SPOCK3, SLC4A4, ABLIM2, SMIM14, KLHL5, HOPX, MOB1B, GC, PARM1, PLAC8, ADH1C, TBCK, HADH, CCDC109B, GUCY1A3, SCARNA22, SLC34A2, NOA1, ANXA3, SPP1, PIGY+PYURF, SETD7, ANXA2P1, SFRP2, SEMA5A, VCAN, PRRC1, C5orf42, PLCXD3, OCLN, FAM105A, PLK2, FAM159B, F2RL1, CETN3, PCSK1, HINT1, SMAD5, HNRNPA0, EGR1, GNPDA1, GPX3, SPARC, CLTB, SQSTM1, DCDC2, SCGN, ZNF165, UFL1, ASCC3, MAP7, PCMT1, SERPINB1, TUBB2A, NOL7, TPMT, BAG6, HLA-DRA, PSMB8, B3GALT4, CDKN1A, OARD1, TOMM6, TBCC, CUL7, TNFRSF21, TMEM14A, GSTA2, GSTA4, GCLC, PTP4A1, PNISR, TSPYL1, TAAR5, RPS12, DYNLT1, THSD7A, CCM2, CARD11, ETV1, MACC1, ELMO1, CAMK2B, NPC1L1, TNS3, PHTF2, SEMA3E, PPP1R9A, CFTR, PODXL, CASP2, RBM33, ACTB, NDUFA4, NUPL2, TRA2A, CYCS, MPLKIP, INHBA, POLM, ZMIZ2, PURB, SUMF2, ERV3-1, POR, HSPB1, CD36, RBM48, COL1A2, PEG10, NPTX2, ZNF394, TRIM4, MEPCE, POP7, SERPINE1, AP1S1, FIS1, KMT2E-AS1, SYPL1, DLD, CAV1, CPA2, PRSS3P2, CUL1, RARRES2, TMUB1, SDC2, ENPP2, LOXL2, INTS9, CA2, CPQ, SLC30A8, DEFB1, NKX3-1, CLU, TMEM66, TM2D2, AP3M2, UBE2V2, CRH, VCPIP1, MRPL13, SQLE, VPS28, RPL8, RABGAP1, SH3GL2, UBAP2, COL27A1, RPS6, PRSS3, FAM219A, GALT, PIGO, TLN1, IGFBPL1, ANXA1, AAED1, STX17, ALDOB, MRPL50, AMBP, AK1, LCN2, CERCAM, ASS1, SURF4, MRPS2, EGFL7, SNHG7, NPDC1, SSNA1, DPP7, CD99L2, WWC3, GPR64, SH3KBP1, PDK3, TSPAN7, BCOR, MAOB, MAGIX, CHM, PLS3, IGSF1, MPP1, ARSD, PRDX4, ARX, NR0B1, TIMP1, ARAF, PCSK1N, TRO, RGAG4, GPRASP1, BCORL1, SSR4, DNASE1L1, PIP4K2A, MARCH5, CASP7, PRR26, IDI1, VIM, GAD2, KIF5B, C10orf10, KIAA1279, ANXA7, GLUD1P3, IFIT1, FFAR4, RBP4, SCD, FAM178A, INA, USMG5, CCDC186, UROS, BNIP3, DGAT2, PDGFD, LMO1, NUCB2, USH1C, MALAT1, PPP6R3, UVRAG, NCAM1, TALDO1, RPLP2, AP2A2, MRPL23, INS, LDHA, PAX6, LMO2, CD44, TRAF6, CD82, SLC35C1, PATL1, PRPF19, CCDC86, CYB561A3, SCGB2A1, INTS5, COX8A, FKBP2, SF1, EHBP1L1, CCS, NDUFV1, LAMTOR1, MMP7, MMP1, COLCA2, BARX2, ABCC9, SLC38A4, MGST1, BCAT1, CNTN1, BAZ2A, BTG1, NR1H4, ATP2A2, DHX37, CCND2, CD9, C12orf57, ENO2, PEX5, IAPP, MED21, H3F3C, KRT7, PPP1R1A, DDIT3, PHLDA1, TMTC3, DCN, TDG, GIT2, TPCN1, KLF12, FLT1, OLFM4, UBAC2, COL4A1, ZMYM5, SAP18, SERTM1, RGCC, PCDH17, GPC5-AS1, F10, SMOC1, YLPM1, ITPK1, MEG3, DYNC1H1, PARP2, RNASE1, DHRS2, NFATC4, SPTSSA, ERO1L, HSPA2, SERPINA1, SERPINA5, C14orf132, DLK1, GNB5, MEIS2, MYO5A, SPG21, PIAS1, PAQR5, RASGRF1, IREB2, ALDH1A3, TUBGCP5, MAGEL2, SERF2, B2M, DUOXA2, SCG3, TPM1, PDCD7, RPLP1, ADPGK, NMB, MRPL46, ANPEP, ARRDC4, HSP90B2P, CRISPLD2, NOMO1, IQCK, FUS, GPT2, CTCF, SMPD3, METRN, TPSAB1, TPSB2, MRPS34, SRRM2, RSL1D1, MAZ, ASPHD1, KCTD13, TBC1D10B, ZNF720, CYLD, TPPP3, TMED6, CMTR2, CTRB1, CTRB2, CMC2, HSD17B2, CYBA, DPEP1, PEMT, GOSR1, ATP6V0A1, DCAKD, CUEDC1, KCNH6, APOH, PRPSAP1, SEPT9, INPP5K, MNT, LOC728392, EPN2, MTRNR2L1, WSB1, SDF2, ERAL1, ABHD15, SLC6A4, ZNF207, MED24, KRT23, KRT19, RAB5C, ARL4D, PPY, TMUB2, EFTUD2, SRSF1, ACE, KPNA2, KCNJ2, MIF4GD, WBP2, SLC26A11, RAB31, ESCO1, ADCYAP1, NPC1, TTR, SOCS6, RHPN2, PTPRS, CRTC1, SAMD4B, PRKD2, CSNK1G2, C19orf43, CLPTM1, MYH14, PPAP2C, BSG, WDR18, MIDN, STK11, SF3A2, SMIM24, EEF2, MIR7-3HG, SLC25A23, MCOLN1, DNMT1, QTRT1, ILF3-AS1, ACP5, ASNA1, TECR, AP1M1, MRPL34, PLVAP, COLGALT1, UNC13A, IFI30, GDF15, RFXANK, NDUFA13, PLEKHF1, FXYD3, HPN, KMT2B, TYROBP, LINC00665, LGALS4, RPS16, BLVRB, RPS19, CXCL17, CEACAM1, BCL3, TMEM160, FTL, RPS11, PIH1D1, RCN3, AKT1S1, KLK1, HSPBP1, ZNF580, PLCB4, TMX4, SYNDIG1, HCK, CBFA2T2, RALY, STK4, TRIB3, BTBD3, SEC23B, CRNKL1, NAA20, INSM1, CST3, APMAP, RPN2, PIGT, CBLN4, GNAS, GID8, APP, PCP4, CXADR, IL10RB, PDXK, PTTG1IP, PLXNB2, C22orf39, ARVCF, GUCD1, SSTR3, CARD10, DDX17, SEPT3, PPARA, DENND6B, ERCC_30000:mix1_7500:mix2, ERCC_937.5:mix1_234.375:mix2, ERCC_468.75:mix1_117.1875:mix2, ERCC_15000:mix1_15000:mix2, ERCC_937.5:mix1_937.5:mix2, ERCC_937.5:mix1_1406.25:mix2, ERCC_29.296875:mix1_43.9453125:mix2, ERCC_15000:mix1_30000:mix2, "
     ]
    }
   ],
   "source": [
    "for i in s_expr.index[np.any(lr.coef_ > 0., 0)]:\n",
    "    print(i, end=', ')"
   ]
  },
  {
   "cell_type": "code",
   "execution_count": 267,
   "metadata": {},
   "outputs": [],
   "source": [
    "shift_idx = y_train.argsort()"
   ]
  },
  {
   "cell_type": "code",
   "execution_count": 268,
   "metadata": {},
   "outputs": [],
   "source": [
    "sorted_idx = y_train.sort_values().index"
   ]
  },
  {
   "cell_type": "code",
   "execution_count": 270,
   "metadata": {},
   "outputs": [],
   "source": [
    "y_prob = lr.predict_log_proba(X_train.loc[sorted_idx])"
   ]
  },
  {
   "cell_type": "code",
   "execution_count": null,
   "metadata": {},
   "outputs": [],
   "source": []
  },
  {
   "cell_type": "code",
   "execution_count": 271,
   "metadata": {},
   "outputs": [
    {
     "data": {
      "image/png": "[encoded data removed]",
      "text/plain": [
       "<matplotlib.figure.Figure at 0x12c08e320>"
      ]
     },
     "metadata": {},
     "output_type": "display_data"
    }
   ],
   "source": [
    "plt.pcolor(y_prob.T, vmax=1)\n",
    "plt.yticks(0.5 + np.arange(lr.classes_.shape[0]), lr.classes_);\n",
    "plt.colorbar();"
   ]
  },
  {
   "cell_type": "code",
   "execution_count": 272,
   "metadata": {},
   "outputs": [
    {
     "data": {
      "text/plain": [
       "(672,)"
      ]
     },
     "execution_count": 272,
     "metadata": {},
     "output_type": "execute_result"
    }
   ],
   "source": [
    "sel_features = s_expr.index[np.any(lr.coef_ > 0., 0)]\n",
    "sel_features.shape"
   ]
  },
  {
   "cell_type": "code",
   "execution_count": 273,
   "metadata": {
    "collapsed": true
   },
   "outputs": [],
   "source": [
    "lr_softmax = LogisticRegression(C=0.05, penalty='l2', n_jobs=-1, multi_class='multinomial',\n",
    "                                solver='sag', max_iter=1000)"
   ]
  },
  {
   "cell_type": "code",
   "execution_count": 275,
   "metadata": {},
   "outputs": [
    {
     "data": {
      "text/plain": [
       "LogisticRegression(C=0.05, class_weight=None, dual=False, fit_intercept=True,\n",
       "          intercept_scaling=1, max_iter=1000, multi_class='multinomial',\n",
       "          n_jobs=-1, penalty='l2', random_state=None, solver='sag',\n",
       "          tol=0.0001, verbose=0, warm_start=False)"
      ]
     },
     "execution_count": 275,
     "metadata": {},
     "output_type": "execute_result"
    }
   ],
   "source": [
    "lr_softmax.fit(X_train[sel_features], y_train)"
   ]
  },
  {
   "cell_type": "code",
   "execution_count": 276,
   "metadata": {},
   "outputs": [
    {
     "data": {
      "text/plain": [
       "1.0"
      ]
     },
     "execution_count": 276,
     "metadata": {},
     "output_type": "execute_result"
    }
   ],
   "source": [
    "lr_softmax.score(X_train[sel_features], y_train)"
   ]
  },
  {
   "cell_type": "code",
   "execution_count": 277,
   "metadata": {},
   "outputs": [
    {
     "data": {
      "text/plain": [
       "0.92745376955903269"
      ]
     },
     "execution_count": 277,
     "metadata": {},
     "output_type": "execute_result"
    }
   ],
   "source": [
    "lr_softmax.score(X_test[sel_features], y_test)"
   ]
  },
  {
   "cell_type": "code",
   "execution_count": 284,
   "metadata": {},
   "outputs": [],
   "source": [
    "X_random = np.random.randn(100000, sel_features.shape[0])"
   ]
  },
  {
   "cell_type": "code",
   "execution_count": 286,
   "metadata": {},
   "outputs": [
    {
     "data": {
      "text/plain": [
       "array(['not applicable', 'unclassified endocrine', 'not applicable', ...,\n",
       "       'co-expression', 'alpha', 'delta'], dtype=object)"
      ]
     },
     "execution_count": 286,
     "metadata": {},
     "output_type": "execute_result"
    }
   ],
   "source": [
    "lr_softmax.predict(X_random)"
   ]
  },
  {
   "cell_type": "code",
   "execution_count": null,
   "metadata": {
    "collapsed": true
   },
   "outputs": [],
   "source": []
  },
  {
   "cell_type": "code",
   "execution_count": 166,
   "metadata": {},
   "outputs": [
    {
     "data": {
      "text/plain": [
       "LogisticRegression(C=0.05, class_weight=None, dual=False, fit_intercept=True,\n",
       "          intercept_scaling=1, max_iter=1000, multi_class='multinomial',\n",
       "          n_jobs=-1, penalty='l2', random_state=None, solver='sag',\n",
       "          tol=0.0001, verbose=0, warm_start=False)"
      ]
     },
     "execution_count": 166,
     "metadata": {},
     "output_type": "execute_result"
    }
   ],
   "source": [
    "lr_softmax"
   ]
  },
  {
   "cell_type": "code",
   "execution_count": 169,
   "metadata": {},
   "outputs": [],
   "source": [
    "y_prob = lr_softmax.predict_log_proba(X[sel_features].loc[sorted_idx])"
   ]
  },
  {
   "cell_type": "code",
   "execution_count": 203,
   "metadata": {},
   "outputs": [
    {
     "data": {
      "image/png": "[encoded data removed]",
      "text/plain": [
       "<matplotlib.figure.Figure at 0x13d3b94a8>"
      ]
     },
     "metadata": {},
     "output_type": "display_data"
    }
   ],
   "source": [
    "plt.pcolor(y_prob.T, vmax=0)\n",
    "plt.yticks(0.5 + np.arange(lr_softmax.classes_.shape[0]), lr_softmax.classes_);\n",
    "plt.colorbar();\n",
    "plt.ylabel('Predicted cell type')\n",
    "plt.xlabel('Cell');"
   ]
  },
  {
   "cell_type": "code",
   "execution_count": 188,
   "metadata": {
    "collapsed": true
   },
   "outputs": [],
   "source": [
    "y_hat = lr_softmax.predict(X[sel_features])"
   ]
  },
  {
   "cell_type": "code",
   "execution_count": 189,
   "metadata": {},
   "outputs": [
    {
     "name": "stdout",
     "output_type": "stream",
     "text": [
      "[[   5    0    0    0    0    0    0    0    0    0    0    0    0    0\n",
      "     0]\n",
      " [   0   54    0    0    0    0    0    0    0    0    0    0    0    0\n",
      "     0]\n",
      " [   0    0  185    0    0    0    0    0    0    0    0    0    0    0\n",
      "     0]\n",
      " [   0    0    0  886    0    0    0    0    0    0    0    0    0    0\n",
      "     0]\n",
      " [   0    0    0    0  270    0    0    0    0    0    0    0    0    0\n",
      "     0]\n",
      " [   0    0    0    0    0   39    0    0    0    0    0    0    0    0\n",
      "     0]\n",
      " [   0    0    0    0    0    0  114    0    0    0    0    0    0    0\n",
      "     0]\n",
      " [   0    0    0    0    0    0    0  386    0    0    0    0    0    0\n",
      "     0]\n",
      " [   0    0    0    0    0    0    0    0   16    0    0    0    0    0\n",
      "     0]\n",
      " [   0    0    0    0    0    0    0    0    0    7    0    0    0    0\n",
      "     0]\n",
      " [   0    0    0    0    0    0    0    0    0    0  197    0    0    0\n",
      "     0]\n",
      " [   0    0    0    0    0    0    0    0    0    0    0    7    0    0\n",
      "     0]\n",
      " [   0    0    0    0    0    0    0    0    0    0    0    0 1305    0\n",
      "     0]\n",
      " [   0    0    0    0    0    0    0    0    0    0    0    0    0    2\n",
      "     0]\n",
      " [   0    0    0    0    0    0    0    0    0    0    0    0    0    0\n",
      "    41]]\n"
     ]
    }
   ],
   "source": [
    "print(metrics.confusion_matrix(y, y_hat))"
   ]
  },
  {
   "cell_type": "code",
   "execution_count": 197,
   "metadata": {
    "scrolled": false
   },
   "outputs": [],
   "source": [
    "marker_genes = pd.DataFrame(\n",
    "{'cell_type': lr_softmax.classes_[np.abs(lr_softmax.coef_).argmax(0)],\n",
    " 'gene': sel_features})"
   ]
  },
  {
   "cell_type": "code",
   "execution_count": 202,
   "metadata": {},
   "outputs": [
    {
     "data": {
      "text/html": [
       "<div>\n",
       "<style>\n",
       "    .dataframe thead tr:only-child th {\n",
       "        text-align: right;\n",
       "    }\n",
       "\n",
       "    .dataframe thead th {\n",
       "        text-align: left;\n",
       "    }\n",
       "\n",
       "    .dataframe tbody tr th {\n",
       "        vertical-align: top;\n",
       "    }\n",
       "</style>\n",
       "<table border=\"1\" class=\"dataframe\">\n",
       "  <thead>\n",
       "    <tr style=\"text-align: right;\">\n",
       "      <th></th>\n",
       "      <th>cell_type</th>\n",
       "      <th>gene</th>\n",
       "    </tr>\n",
       "  </thead>\n",
       "  <tbody>\n",
       "    <tr>\n",
       "      <th>708</th>\n",
       "      <td>MHC class II</td>\n",
       "      <td>HCK</td>\n",
       "    </tr>\n",
       "    <tr>\n",
       "      <th>532</th>\n",
       "      <td>MHC class II</td>\n",
       "      <td>GPR183</td>\n",
       "    </tr>\n",
       "    <tr>\n",
       "      <th>509</th>\n",
       "      <td>MHC class II</td>\n",
       "      <td>LYZ</td>\n",
       "    </tr>\n",
       "    <tr>\n",
       "      <th>246</th>\n",
       "      <td>MHC class II</td>\n",
       "      <td>HLA-DRA</td>\n",
       "    </tr>\n",
       "    <tr>\n",
       "      <th>58</th>\n",
       "      <td>PSC</td>\n",
       "      <td>CTSK</td>\n",
       "    </tr>\n",
       "    <tr>\n",
       "      <th>77</th>\n",
       "      <td>PSC</td>\n",
       "      <td>HSD11B1</td>\n",
       "    </tr>\n",
       "    <tr>\n",
       "      <th>120</th>\n",
       "      <td>PSC</td>\n",
       "      <td>TNFAIP6</td>\n",
       "    </tr>\n",
       "    <tr>\n",
       "      <th>126</th>\n",
       "      <td>PSC</td>\n",
       "      <td>COL3A1</td>\n",
       "    </tr>\n",
       "    <tr>\n",
       "      <th>178</th>\n",
       "      <td>acinar</td>\n",
       "      <td>GPR160</td>\n",
       "    </tr>\n",
       "    <tr>\n",
       "      <th>175</th>\n",
       "      <td>acinar</td>\n",
       "      <td>CPB1</td>\n",
       "    </tr>\n",
       "    <tr>\n",
       "      <th>132</th>\n",
       "      <td>acinar</td>\n",
       "      <td>MECOM</td>\n",
       "    </tr>\n",
       "    <tr>\n",
       "      <th>127</th>\n",
       "      <td>acinar</td>\n",
       "      <td>IGFBP2</td>\n",
       "    </tr>\n",
       "    <tr>\n",
       "      <th>8</th>\n",
       "      <td>alpha</td>\n",
       "      <td>AURKAIP1</td>\n",
       "    </tr>\n",
       "    <tr>\n",
       "      <th>10</th>\n",
       "      <td>alpha</td>\n",
       "      <td>SZT2</td>\n",
       "    </tr>\n",
       "    <tr>\n",
       "      <th>9</th>\n",
       "      <td>alpha</td>\n",
       "      <td>MFN2</td>\n",
       "    </tr>\n",
       "    <tr>\n",
       "      <th>12</th>\n",
       "      <td>alpha</td>\n",
       "      <td>RAVER2</td>\n",
       "    </tr>\n",
       "    <tr>\n",
       "      <th>34</th>\n",
       "      <td>beta</td>\n",
       "      <td>RPA2</td>\n",
       "    </tr>\n",
       "    <tr>\n",
       "      <th>57</th>\n",
       "      <td>beta</td>\n",
       "      <td>ANP32E</td>\n",
       "    </tr>\n",
       "    <tr>\n",
       "      <th>20</th>\n",
       "      <td>beta</td>\n",
       "      <td>SUSD4</td>\n",
       "    </tr>\n",
       "    <tr>\n",
       "      <th>2</th>\n",
       "      <td>beta</td>\n",
       "      <td>RAB3B</td>\n",
       "    </tr>\n",
       "    <tr>\n",
       "      <th>4</th>\n",
       "      <td>co-expression</td>\n",
       "      <td>SMG5</td>\n",
       "    </tr>\n",
       "    <tr>\n",
       "      <th>42</th>\n",
       "      <td>co-expression</td>\n",
       "      <td>TSPAN1</td>\n",
       "    </tr>\n",
       "    <tr>\n",
       "      <th>30</th>\n",
       "      <td>co-expression</td>\n",
       "      <td>ID3</td>\n",
       "    </tr>\n",
       "    <tr>\n",
       "      <th>36</th>\n",
       "      <td>co-expression</td>\n",
       "      <td>SNRNP40</td>\n",
       "    </tr>\n",
       "    <tr>\n",
       "      <th>3</th>\n",
       "      <td>delta</td>\n",
       "      <td>LEPR</td>\n",
       "    </tr>\n",
       "    <tr>\n",
       "      <th>69</th>\n",
       "      <td>delta</td>\n",
       "      <td>RGS2</td>\n",
       "    </tr>\n",
       "    <tr>\n",
       "      <th>21</th>\n",
       "      <td>delta</td>\n",
       "      <td>GNG4</td>\n",
       "    </tr>\n",
       "    <tr>\n",
       "      <th>148</th>\n",
       "      <td>delta</td>\n",
       "      <td>BCHE</td>\n",
       "    </tr>\n",
       "    <tr>\n",
       "      <th>37</th>\n",
       "      <td>ductal</td>\n",
       "      <td>TINAGL1</td>\n",
       "    </tr>\n",
       "    <tr>\n",
       "      <th>31</th>\n",
       "      <td>ductal</td>\n",
       "      <td>RSRP1</td>\n",
       "    </tr>\n",
       "    <tr>\n",
       "      <th>15</th>\n",
       "      <td>ductal</td>\n",
       "      <td>NOTCH2NL</td>\n",
       "    </tr>\n",
       "    <tr>\n",
       "      <th>38</th>\n",
       "      <td>ductal</td>\n",
       "      <td>SF3A3</td>\n",
       "    </tr>\n",
       "    <tr>\n",
       "      <th>48</th>\n",
       "      <td>endothelial</td>\n",
       "      <td>S1PR1</td>\n",
       "    </tr>\n",
       "    <tr>\n",
       "      <th>282</th>\n",
       "      <td>endothelial</td>\n",
       "      <td>TSPAN12</td>\n",
       "    </tr>\n",
       "    <tr>\n",
       "      <th>260</th>\n",
       "      <td>endothelial</td>\n",
       "      <td>PRDM1</td>\n",
       "    </tr>\n",
       "    <tr>\n",
       "      <th>217</th>\n",
       "      <td>endothelial</td>\n",
       "      <td>ESM1</td>\n",
       "    </tr>\n",
       "    <tr>\n",
       "      <th>376</th>\n",
       "      <td>epsilon</td>\n",
       "      <td>GPR64</td>\n",
       "    </tr>\n",
       "    <tr>\n",
       "      <th>295</th>\n",
       "      <td>epsilon</td>\n",
       "      <td>PEG10</td>\n",
       "    </tr>\n",
       "    <tr>\n",
       "      <th>154</th>\n",
       "      <td>epsilon</td>\n",
       "      <td>GHRL</td>\n",
       "    </tr>\n",
       "    <tr>\n",
       "      <th>6</th>\n",
       "      <td>gamma</td>\n",
       "      <td>LYST</td>\n",
       "    </tr>\n",
       "    <tr>\n",
       "      <th>71</th>\n",
       "      <td>gamma</td>\n",
       "      <td>ADIPOR1</td>\n",
       "    </tr>\n",
       "    <tr>\n",
       "      <th>60</th>\n",
       "      <td>gamma</td>\n",
       "      <td>S100A10</td>\n",
       "    </tr>\n",
       "    <tr>\n",
       "      <th>29</th>\n",
       "      <td>gamma</td>\n",
       "      <td>WNT4</td>\n",
       "    </tr>\n",
       "    <tr>\n",
       "      <th>225</th>\n",
       "      <td>mast</td>\n",
       "      <td>EGR1</td>\n",
       "    </tr>\n",
       "    <tr>\n",
       "      <th>575</th>\n",
       "      <td>mast</td>\n",
       "      <td>TPSAB1</td>\n",
       "    </tr>\n",
       "    <tr>\n",
       "      <th>49</th>\n",
       "      <td>mast</td>\n",
       "      <td>SARS</td>\n",
       "    </tr>\n",
       "    <tr>\n",
       "      <th>35</th>\n",
       "      <td>mast</td>\n",
       "      <td>LAPTM5</td>\n",
       "    </tr>\n",
       "    <tr>\n",
       "      <th>5</th>\n",
       "      <td>not applicable</td>\n",
       "      <td>MTR</td>\n",
       "    </tr>\n",
       "    <tr>\n",
       "      <th>1</th>\n",
       "      <td>not applicable</td>\n",
       "      <td>USP48</td>\n",
       "    </tr>\n",
       "    <tr>\n",
       "      <th>7</th>\n",
       "      <td>not applicable</td>\n",
       "      <td>LINC01128</td>\n",
       "    </tr>\n",
       "    <tr>\n",
       "      <th>0</th>\n",
       "      <td>not applicable</td>\n",
       "      <td>PRUNE</td>\n",
       "    </tr>\n",
       "    <tr>\n",
       "      <th>479</th>\n",
       "      <td>unclassified</td>\n",
       "      <td>CRYAB</td>\n",
       "    </tr>\n",
       "    <tr>\n",
       "      <th>83</th>\n",
       "      <td>unclassified endocrine</td>\n",
       "      <td>ERO1LB</td>\n",
       "    </tr>\n",
       "    <tr>\n",
       "      <th>81</th>\n",
       "      <td>unclassified endocrine</td>\n",
       "      <td>GNPAT</td>\n",
       "    </tr>\n",
       "    <tr>\n",
       "      <th>63</th>\n",
       "      <td>unclassified endocrine</td>\n",
       "      <td>FDPS</td>\n",
       "    </tr>\n",
       "    <tr>\n",
       "      <th>56</th>\n",
       "      <td>unclassified endocrine</td>\n",
       "      <td>RBM8A</td>\n",
       "    </tr>\n",
       "  </tbody>\n",
       "</table>\n",
       "</div>"
      ],
      "text/plain": [
       "                  cell_type       gene\n",
       "708            MHC class II        HCK\n",
       "532            MHC class II     GPR183\n",
       "509            MHC class II        LYZ\n",
       "246            MHC class II    HLA-DRA\n",
       "58                      PSC       CTSK\n",
       "77                      PSC    HSD11B1\n",
       "120                     PSC    TNFAIP6\n",
       "126                     PSC     COL3A1\n",
       "178                  acinar     GPR160\n",
       "175                  acinar       CPB1\n",
       "132                  acinar      MECOM\n",
       "127                  acinar     IGFBP2\n",
       "8                     alpha   AURKAIP1\n",
       "10                    alpha       SZT2\n",
       "9                     alpha       MFN2\n",
       "12                    alpha     RAVER2\n",
       "34                     beta       RPA2\n",
       "57                     beta     ANP32E\n",
       "20                     beta      SUSD4\n",
       "2                      beta      RAB3B\n",
       "4             co-expression       SMG5\n",
       "42            co-expression     TSPAN1\n",
       "30            co-expression        ID3\n",
       "36            co-expression    SNRNP40\n",
       "3                     delta       LEPR\n",
       "69                    delta       RGS2\n",
       "21                    delta       GNG4\n",
       "148                   delta       BCHE\n",
       "37                   ductal    TINAGL1\n",
       "31                   ductal      RSRP1\n",
       "15                   ductal   NOTCH2NL\n",
       "38                   ductal      SF3A3\n",
       "48              endothelial      S1PR1\n",
       "282             endothelial    TSPAN12\n",
       "260             endothelial      PRDM1\n",
       "217             endothelial       ESM1\n",
       "376                 epsilon      GPR64\n",
       "295                 epsilon      PEG10\n",
       "154                 epsilon       GHRL\n",
       "6                     gamma       LYST\n",
       "71                    gamma    ADIPOR1\n",
       "60                    gamma    S100A10\n",
       "29                    gamma       WNT4\n",
       "225                    mast       EGR1\n",
       "575                    mast     TPSAB1\n",
       "49                     mast       SARS\n",
       "35                     mast     LAPTM5\n",
       "5            not applicable        MTR\n",
       "1            not applicable      USP48\n",
       "7            not applicable  LINC01128\n",
       "0            not applicable      PRUNE\n",
       "479            unclassified      CRYAB\n",
       "83   unclassified endocrine     ERO1LB\n",
       "81   unclassified endocrine      GNPAT\n",
       "63   unclassified endocrine       FDPS\n",
       "56   unclassified endocrine      RBM8A"
      ]
     },
     "execution_count": 202,
     "metadata": {},
     "output_type": "execute_result"
    }
   ],
   "source": [
    "marker_genes.groupby('cell_type').head(4).sort_values('cell_type')"
   ]
  },
  {
   "cell_type": "code",
   "execution_count": null,
   "metadata": {
    "collapsed": true
   },
   "outputs": [],
   "source": []
  },
  {
   "cell_type": "code",
   "execution_count": 205,
   "metadata": {
    "collapsed": true
   },
   "outputs": [],
   "source": [
    "m_sample_info = pd.read_csv('muraro_sample_info.csv', index_col=0)\n",
    "m_expr = pd.read_csv('muraro_exprs.csv', index_col=0)"
   ]
  },
  {
   "cell_type": "code",
   "execution_count": 209,
   "metadata": {},
   "outputs": [],
   "source": [
    "m_expr.index = m_expr.index.str.split('_').str.get(0)"
   ]
  },
  {
   "cell_type": "code",
   "execution_count": 297,
   "metadata": {},
   "outputs": [],
   "source": [
    "m_expr['gene'] = m_expr.index"
   ]
  },
  {
   "cell_type": "code",
   "execution_count": 298,
   "metadata": {
    "collapsed": true
   },
   "outputs": [],
   "source": [
    "m_long = m_expr.melt(id_vars=['gene'], var_name='cell', value_name='log2cpm')"
   ]
  },
  {
   "cell_type": "code",
   "execution_count": 299,
   "metadata": {},
   "outputs": [
    {
     "data": {
      "text/plain": [
       "(40664002, 3)"
      ]
     },
     "execution_count": 299,
     "metadata": {},
     "output_type": "execute_result"
    }
   ],
   "source": [
    "m_long.shape"
   ]
  },
  {
   "cell_type": "code",
   "execution_count": 303,
   "metadata": {},
   "outputs": [],
   "source": [
    "m_long_s = m_long.replace(0., np.nan).dropna()"
   ]
  },
  {
   "cell_type": "code",
   "execution_count": 305,
   "metadata": {},
   "outputs": [
    {
     "name": "stdout",
     "output_type": "stream",
     "text": [
      "Linear model.ipynb\r\n",
      "long_exprs.csv\r\n",
      "muraro.rds\r\n",
      "muraro_exprs.csv\r\n",
      "muraro_sample_info.csv\r\n",
      "reading data.Rmd\r\n",
      "scRNA-seq supervised classification.Rproj\r\n",
      "segerstolpe.rds\r\n",
      "segerstolpe_exprs.csv\r\n",
      "segerstolpe_sample_info.csv\r\n"
     ]
    }
   ],
   "source": [
    "!ls"
   ]
  },
  {
   "cell_type": "code",
   "execution_count": 307,
   "metadata": {},
   "outputs": [],
   "source": [
    "m_long_s.to_csv('long_muraro_exprs.csv', index=False)"
   ]
  },
  {
   "cell_type": "code",
   "execution_count": 311,
   "metadata": {},
   "outputs": [],
   "source": [
    "m_sample_info.index.name = 'cell'"
   ]
  },
  {
   "cell_type": "code",
   "execution_count": 312,
   "metadata": {
    "collapsed": true
   },
   "outputs": [],
   "source": [
    "m_sample_info.to_csv('muraro_sample_info2.csv')"
   ]
  },
  {
   "cell_type": "code",
   "execution_count": null,
   "metadata": {
    "collapsed": true
   },
   "outputs": [],
   "source": []
  },
  {
   "cell_type": "code",
   "execution_count": null,
   "metadata": {
    "collapsed": true
   },
   "outputs": [],
   "source": []
  },
  {
   "cell_type": "code",
   "execution_count": 219,
   "metadata": {},
   "outputs": [],
   "source": [
    "X_new = m_expr.loc[sel_features].T.fillna(0)"
   ]
  },
  {
   "cell_type": "code",
   "execution_count": 222,
   "metadata": {},
   "outputs": [],
   "source": [
    "m_sample_info['pred_cell_type'] = lr_softmax.predict(X_new)"
   ]
  },
  {
   "cell_type": "code",
   "execution_count": 223,
   "metadata": {},
   "outputs": [
    {
     "data": {
      "text/html": [
       "<div>\n",
       "<style>\n",
       "    .dataframe thead tr:only-child th {\n",
       "        text-align: right;\n",
       "    }\n",
       "\n",
       "    .dataframe thead th {\n",
       "        text-align: left;\n",
       "    }\n",
       "\n",
       "    .dataframe tbody tr th {\n",
       "        vertical-align: top;\n",
       "    }\n",
       "</style>\n",
       "<table border=\"1\" class=\"dataframe\">\n",
       "  <thead>\n",
       "    <tr style=\"text-align: right;\">\n",
       "      <th></th>\n",
       "      <th>cell_type1</th>\n",
       "      <th>pred_cell_type</th>\n",
       "    </tr>\n",
       "  </thead>\n",
       "  <tbody>\n",
       "    <tr>\n",
       "      <th>D28.1_1</th>\n",
       "      <td>alpha</td>\n",
       "      <td>alpha</td>\n",
       "    </tr>\n",
       "    <tr>\n",
       "      <th>D28.1_13</th>\n",
       "      <td>ductal</td>\n",
       "      <td>ductal</td>\n",
       "    </tr>\n",
       "    <tr>\n",
       "      <th>D28.1_15</th>\n",
       "      <td>alpha</td>\n",
       "      <td>alpha</td>\n",
       "    </tr>\n",
       "    <tr>\n",
       "      <th>D28.1_17</th>\n",
       "      <td>alpha</td>\n",
       "      <td>alpha</td>\n",
       "    </tr>\n",
       "    <tr>\n",
       "      <th>D28.1_2</th>\n",
       "      <td>endothelial</td>\n",
       "      <td>endothelial</td>\n",
       "    </tr>\n",
       "    <tr>\n",
       "      <th>D28.1_26</th>\n",
       "      <td>endothelial</td>\n",
       "      <td>not applicable</td>\n",
       "    </tr>\n",
       "    <tr>\n",
       "      <th>D28.1_29</th>\n",
       "      <td>alpha</td>\n",
       "      <td>alpha</td>\n",
       "    </tr>\n",
       "    <tr>\n",
       "      <th>D28.1_3</th>\n",
       "      <td>delta</td>\n",
       "      <td>delta</td>\n",
       "    </tr>\n",
       "    <tr>\n",
       "      <th>D28.1_30</th>\n",
       "      <td>alpha</td>\n",
       "      <td>alpha</td>\n",
       "    </tr>\n",
       "    <tr>\n",
       "      <th>D28.1_37</th>\n",
       "      <td>acinar</td>\n",
       "      <td>acinar</td>\n",
       "    </tr>\n",
       "    <tr>\n",
       "      <th>D28.1_38</th>\n",
       "      <td>acinar</td>\n",
       "      <td>acinar</td>\n",
       "    </tr>\n",
       "    <tr>\n",
       "      <th>D28.1_39</th>\n",
       "      <td>alpha</td>\n",
       "      <td>not applicable</td>\n",
       "    </tr>\n",
       "    <tr>\n",
       "      <th>D28.1_4</th>\n",
       "      <td>beta</td>\n",
       "      <td>beta</td>\n",
       "    </tr>\n",
       "    <tr>\n",
       "      <th>D28.1_40</th>\n",
       "      <td>alpha</td>\n",
       "      <td>alpha</td>\n",
       "    </tr>\n",
       "    <tr>\n",
       "      <th>D28.1_41</th>\n",
       "      <td>alpha</td>\n",
       "      <td>alpha</td>\n",
       "    </tr>\n",
       "    <tr>\n",
       "      <th>D28.1_43</th>\n",
       "      <td>beta</td>\n",
       "      <td>not applicable</td>\n",
       "    </tr>\n",
       "    <tr>\n",
       "      <th>D28.1_49</th>\n",
       "      <td>beta</td>\n",
       "      <td>ductal</td>\n",
       "    </tr>\n",
       "    <tr>\n",
       "      <th>D28.1_5</th>\n",
       "      <td>unclear</td>\n",
       "      <td>ductal</td>\n",
       "    </tr>\n",
       "    <tr>\n",
       "      <th>D28.1_50</th>\n",
       "      <td>acinar</td>\n",
       "      <td>acinar</td>\n",
       "    </tr>\n",
       "    <tr>\n",
       "      <th>D28.1_51</th>\n",
       "      <td>alpha</td>\n",
       "      <td>alpha</td>\n",
       "    </tr>\n",
       "    <tr>\n",
       "      <th>D28.1_52</th>\n",
       "      <td>ductal</td>\n",
       "      <td>ductal</td>\n",
       "    </tr>\n",
       "    <tr>\n",
       "      <th>D28.1_55</th>\n",
       "      <td>acinar</td>\n",
       "      <td>acinar</td>\n",
       "    </tr>\n",
       "    <tr>\n",
       "      <th>D28.1_61</th>\n",
       "      <td>delta</td>\n",
       "      <td>delta</td>\n",
       "    </tr>\n",
       "    <tr>\n",
       "      <th>D28.1_62</th>\n",
       "      <td>acinar</td>\n",
       "      <td>acinar</td>\n",
       "    </tr>\n",
       "    <tr>\n",
       "      <th>D28.1_63</th>\n",
       "      <td>alpha</td>\n",
       "      <td>not applicable</td>\n",
       "    </tr>\n",
       "    <tr>\n",
       "      <th>D28.1_65</th>\n",
       "      <td>beta</td>\n",
       "      <td>co-expression</td>\n",
       "    </tr>\n",
       "    <tr>\n",
       "      <th>D28.1_66</th>\n",
       "      <td>ductal</td>\n",
       "      <td>ductal</td>\n",
       "    </tr>\n",
       "    <tr>\n",
       "      <th>D28.1_67</th>\n",
       "      <td>acinar</td>\n",
       "      <td>acinar</td>\n",
       "    </tr>\n",
       "    <tr>\n",
       "      <th>D28.1_68</th>\n",
       "      <td>acinar</td>\n",
       "      <td>acinar</td>\n",
       "    </tr>\n",
       "    <tr>\n",
       "      <th>D28.1_73</th>\n",
       "      <td>acinar</td>\n",
       "      <td>acinar</td>\n",
       "    </tr>\n",
       "    <tr>\n",
       "      <th>...</th>\n",
       "      <td>...</td>\n",
       "      <td>...</td>\n",
       "    </tr>\n",
       "    <tr>\n",
       "      <th>D31.8_65</th>\n",
       "      <td>alpha</td>\n",
       "      <td>alpha</td>\n",
       "    </tr>\n",
       "    <tr>\n",
       "      <th>D31.8_66</th>\n",
       "      <td>delta</td>\n",
       "      <td>delta</td>\n",
       "    </tr>\n",
       "    <tr>\n",
       "      <th>D31.8_67</th>\n",
       "      <td>gamma</td>\n",
       "      <td>gamma</td>\n",
       "    </tr>\n",
       "    <tr>\n",
       "      <th>D31.8_69</th>\n",
       "      <td>delta</td>\n",
       "      <td>delta</td>\n",
       "    </tr>\n",
       "    <tr>\n",
       "      <th>D31.8_7</th>\n",
       "      <td>acinar</td>\n",
       "      <td>acinar</td>\n",
       "    </tr>\n",
       "    <tr>\n",
       "      <th>D31.8_70</th>\n",
       "      <td>gamma</td>\n",
       "      <td>gamma</td>\n",
       "    </tr>\n",
       "    <tr>\n",
       "      <th>D31.8_71</th>\n",
       "      <td>delta</td>\n",
       "      <td>delta</td>\n",
       "    </tr>\n",
       "    <tr>\n",
       "      <th>D31.8_73</th>\n",
       "      <td>beta</td>\n",
       "      <td>beta</td>\n",
       "    </tr>\n",
       "    <tr>\n",
       "      <th>D31.8_74</th>\n",
       "      <td>beta</td>\n",
       "      <td>beta</td>\n",
       "    </tr>\n",
       "    <tr>\n",
       "      <th>D31.8_75</th>\n",
       "      <td>ductal</td>\n",
       "      <td>ductal</td>\n",
       "    </tr>\n",
       "    <tr>\n",
       "      <th>D31.8_76</th>\n",
       "      <td>delta</td>\n",
       "      <td>delta</td>\n",
       "    </tr>\n",
       "    <tr>\n",
       "      <th>D31.8_77</th>\n",
       "      <td>ductal</td>\n",
       "      <td>ductal</td>\n",
       "    </tr>\n",
       "    <tr>\n",
       "      <th>D31.8_78</th>\n",
       "      <td>beta</td>\n",
       "      <td>beta</td>\n",
       "    </tr>\n",
       "    <tr>\n",
       "      <th>D31.8_8</th>\n",
       "      <td>beta</td>\n",
       "      <td>beta</td>\n",
       "    </tr>\n",
       "    <tr>\n",
       "      <th>D31.8_80</th>\n",
       "      <td>ductal</td>\n",
       "      <td>ductal</td>\n",
       "    </tr>\n",
       "    <tr>\n",
       "      <th>D31.8_81</th>\n",
       "      <td>acinar</td>\n",
       "      <td>acinar</td>\n",
       "    </tr>\n",
       "    <tr>\n",
       "      <th>D31.8_82</th>\n",
       "      <td>alpha</td>\n",
       "      <td>alpha</td>\n",
       "    </tr>\n",
       "    <tr>\n",
       "      <th>D31.8_83</th>\n",
       "      <td>beta</td>\n",
       "      <td>beta</td>\n",
       "    </tr>\n",
       "    <tr>\n",
       "      <th>D31.8_84</th>\n",
       "      <td>beta</td>\n",
       "      <td>beta</td>\n",
       "    </tr>\n",
       "    <tr>\n",
       "      <th>D31.8_85</th>\n",
       "      <td>ductal</td>\n",
       "      <td>ductal</td>\n",
       "    </tr>\n",
       "    <tr>\n",
       "      <th>D31.8_86</th>\n",
       "      <td>alpha</td>\n",
       "      <td>alpha</td>\n",
       "    </tr>\n",
       "    <tr>\n",
       "      <th>D31.8_87</th>\n",
       "      <td>gamma</td>\n",
       "      <td>gamma</td>\n",
       "    </tr>\n",
       "    <tr>\n",
       "      <th>D31.8_88</th>\n",
       "      <td>beta</td>\n",
       "      <td>beta</td>\n",
       "    </tr>\n",
       "    <tr>\n",
       "      <th>D31.8_89</th>\n",
       "      <td>acinar</td>\n",
       "      <td>acinar</td>\n",
       "    </tr>\n",
       "    <tr>\n",
       "      <th>D31.8_9</th>\n",
       "      <td>alpha</td>\n",
       "      <td>not applicable</td>\n",
       "    </tr>\n",
       "    <tr>\n",
       "      <th>D31.8_90</th>\n",
       "      <td>ductal</td>\n",
       "      <td>ductal</td>\n",
       "    </tr>\n",
       "    <tr>\n",
       "      <th>D31.8_91</th>\n",
       "      <td>acinar</td>\n",
       "      <td>acinar</td>\n",
       "    </tr>\n",
       "    <tr>\n",
       "      <th>D31.8_92</th>\n",
       "      <td>mesenchymal</td>\n",
       "      <td>PSC</td>\n",
       "    </tr>\n",
       "    <tr>\n",
       "      <th>D31.8_93</th>\n",
       "      <td>alpha</td>\n",
       "      <td>alpha</td>\n",
       "    </tr>\n",
       "    <tr>\n",
       "      <th>D31.8_94</th>\n",
       "      <td>ductal</td>\n",
       "      <td>ductal</td>\n",
       "    </tr>\n",
       "  </tbody>\n",
       "</table>\n",
       "<p>2126 rows × 2 columns</p>\n",
       "</div>"
      ],
      "text/plain": [
       "           cell_type1  pred_cell_type\n",
       "D28.1_1         alpha           alpha\n",
       "D28.1_13       ductal          ductal\n",
       "D28.1_15        alpha           alpha\n",
       "D28.1_17        alpha           alpha\n",
       "D28.1_2   endothelial     endothelial\n",
       "D28.1_26  endothelial  not applicable\n",
       "D28.1_29        alpha           alpha\n",
       "D28.1_3         delta           delta\n",
       "D28.1_30        alpha           alpha\n",
       "D28.1_37       acinar          acinar\n",
       "D28.1_38       acinar          acinar\n",
       "D28.1_39        alpha  not applicable\n",
       "D28.1_4          beta            beta\n",
       "D28.1_40        alpha           alpha\n",
       "D28.1_41        alpha           alpha\n",
       "D28.1_43         beta  not applicable\n",
       "D28.1_49         beta          ductal\n",
       "D28.1_5       unclear          ductal\n",
       "D28.1_50       acinar          acinar\n",
       "D28.1_51        alpha           alpha\n",
       "D28.1_52       ductal          ductal\n",
       "D28.1_55       acinar          acinar\n",
       "D28.1_61        delta           delta\n",
       "D28.1_62       acinar          acinar\n",
       "D28.1_63        alpha  not applicable\n",
       "D28.1_65         beta   co-expression\n",
       "D28.1_66       ductal          ductal\n",
       "D28.1_67       acinar          acinar\n",
       "D28.1_68       acinar          acinar\n",
       "D28.1_73       acinar          acinar\n",
       "...               ...             ...\n",
       "D31.8_65        alpha           alpha\n",
       "D31.8_66        delta           delta\n",
       "D31.8_67        gamma           gamma\n",
       "D31.8_69        delta           delta\n",
       "D31.8_7        acinar          acinar\n",
       "D31.8_70        gamma           gamma\n",
       "D31.8_71        delta           delta\n",
       "D31.8_73         beta            beta\n",
       "D31.8_74         beta            beta\n",
       "D31.8_75       ductal          ductal\n",
       "D31.8_76        delta           delta\n",
       "D31.8_77       ductal          ductal\n",
       "D31.8_78         beta            beta\n",
       "D31.8_8          beta            beta\n",
       "D31.8_80       ductal          ductal\n",
       "D31.8_81       acinar          acinar\n",
       "D31.8_82        alpha           alpha\n",
       "D31.8_83         beta            beta\n",
       "D31.8_84         beta            beta\n",
       "D31.8_85       ductal          ductal\n",
       "D31.8_86        alpha           alpha\n",
       "D31.8_87        gamma           gamma\n",
       "D31.8_88         beta            beta\n",
       "D31.8_89       acinar          acinar\n",
       "D31.8_9         alpha  not applicable\n",
       "D31.8_90       ductal          ductal\n",
       "D31.8_91       acinar          acinar\n",
       "D31.8_92  mesenchymal             PSC\n",
       "D31.8_93        alpha           alpha\n",
       "D31.8_94       ductal          ductal\n",
       "\n",
       "[2126 rows x 2 columns]"
      ]
     },
     "execution_count": 223,
     "metadata": {},
     "output_type": "execute_result"
    }
   ],
   "source": [
    "m_sample_info[['cell_type1', 'pred_cell_type']]"
   ]
  },
  {
   "cell_type": "code",
   "execution_count": 225,
   "metadata": {},
   "outputs": [
    {
     "name": "stdout",
     "output_type": "stream",
     "text": [
      "[[  0   0   0   0   0   0   0   0   0   0   0   0   0   0   0   0]\n",
      " [  0   0   0   0   0   0   0   0   0   0   0   0   0   0   0   0]\n",
      " [  0   0 212   0   0   0   0   0   0   0   0   0   0   6   1   0]\n",
      " [  0   0   1 595   0  18   0   5   0   0   1   0   0 192   0   0]\n",
      " [  0   1   2   2 359  17   2   3   0   0   5   0   0  42  15   0]\n",
      " [  0   0   0   0   0   0   0   0   0   0   0   0   0   0   0   0]\n",
      " [  0   0   0   0   2   2 175   0   0   0   0   0   0  12   2   0]\n",
      " [  2   3   7   0   0   0   0 208   0   0   1   1   0  22   1   0]\n",
      " [  0   1   0   0   0   0   0   0  11   0   0   0   0   9   0   0]\n",
      " [  0   0   0   0   0   0   0   0   0   3   0   0   0   0   0   0]\n",
      " [  0   0   2   0   0   0   0   0   0   0  80   0   0  19   0   0]\n",
      " [  0   0   0   0   0   0   0   0   0   0   0   0   0   0   0   0]\n",
      " [  0  77   0   0   0   0   0   1   0   0   0   0   0   2   0   0]\n",
      " [  0   0   0   0   0   0   0   0   0   0   0   0   0   0   0   0]\n",
      " [  0   0   0   0   0   0   0   0   0   0   0   0   0   0   0   0]\n",
      " [  0   0   0   0   0   0   0   3   0   0   0   0   0   1   0   0]]\n"
     ]
    }
   ],
   "source": [
    "print(metrics.confusion_matrix(m_sample_info['cell_type1'], m_sample_info['pred_cell_type']))"
   ]
  },
  {
   "cell_type": "code",
   "execution_count": 243,
   "metadata": {},
   "outputs": [
    {
     "data": {
      "text/html": [
       "<div>\n",
       "<style>\n",
       "    .dataframe thead tr:only-child th {\n",
       "        text-align: right;\n",
       "    }\n",
       "\n",
       "    .dataframe thead th {\n",
       "        text-align: left;\n",
       "    }\n",
       "\n",
       "    .dataframe tbody tr th {\n",
       "        vertical-align: top;\n",
       "    }\n",
       "</style>\n",
       "<table border=\"1\" class=\"dataframe\">\n",
       "  <thead>\n",
       "    <tr style=\"text-align: right;\">\n",
       "      <th></th>\n",
       "      <th>cell_type1</th>\n",
       "      <th>acinar</th>\n",
       "      <th>alpha</th>\n",
       "      <th>beta</th>\n",
       "      <th>delta</th>\n",
       "      <th>ductal</th>\n",
       "      <th>endothelial</th>\n",
       "      <th>epsilon</th>\n",
       "      <th>gamma</th>\n",
       "      <th>mesenchymal</th>\n",
       "      <th>unclear</th>\n",
       "    </tr>\n",
       "    <tr>\n",
       "      <th></th>\n",
       "      <th>pred_cell_type</th>\n",
       "      <th></th>\n",
       "      <th></th>\n",
       "      <th></th>\n",
       "      <th></th>\n",
       "      <th></th>\n",
       "      <th></th>\n",
       "      <th></th>\n",
       "      <th></th>\n",
       "      <th></th>\n",
       "      <th></th>\n",
       "    </tr>\n",
       "  </thead>\n",
       "  <tbody>\n",
       "    <tr>\n",
       "      <th rowspan=\"14\" valign=\"top\">donor</th>\n",
       "      <th>MHC class II</th>\n",
       "      <td>0.0</td>\n",
       "      <td>0.0</td>\n",
       "      <td>0.0</td>\n",
       "      <td>0.0</td>\n",
       "      <td>2.0</td>\n",
       "      <td>0.0</td>\n",
       "      <td>0.0</td>\n",
       "      <td>0.0</td>\n",
       "      <td>0.0</td>\n",
       "      <td>0.0</td>\n",
       "    </tr>\n",
       "    <tr>\n",
       "      <th>PSC</th>\n",
       "      <td>0.0</td>\n",
       "      <td>0.0</td>\n",
       "      <td>1.0</td>\n",
       "      <td>0.0</td>\n",
       "      <td>3.0</td>\n",
       "      <td>1.0</td>\n",
       "      <td>0.0</td>\n",
       "      <td>0.0</td>\n",
       "      <td>77.0</td>\n",
       "      <td>0.0</td>\n",
       "    </tr>\n",
       "    <tr>\n",
       "      <th>acinar</th>\n",
       "      <td>212.0</td>\n",
       "      <td>1.0</td>\n",
       "      <td>2.0</td>\n",
       "      <td>0.0</td>\n",
       "      <td>7.0</td>\n",
       "      <td>0.0</td>\n",
       "      <td>0.0</td>\n",
       "      <td>2.0</td>\n",
       "      <td>0.0</td>\n",
       "      <td>0.0</td>\n",
       "    </tr>\n",
       "    <tr>\n",
       "      <th>alpha</th>\n",
       "      <td>0.0</td>\n",
       "      <td>595.0</td>\n",
       "      <td>2.0</td>\n",
       "      <td>0.0</td>\n",
       "      <td>0.0</td>\n",
       "      <td>0.0</td>\n",
       "      <td>0.0</td>\n",
       "      <td>0.0</td>\n",
       "      <td>0.0</td>\n",
       "      <td>0.0</td>\n",
       "    </tr>\n",
       "    <tr>\n",
       "      <th>beta</th>\n",
       "      <td>0.0</td>\n",
       "      <td>0.0</td>\n",
       "      <td>359.0</td>\n",
       "      <td>2.0</td>\n",
       "      <td>0.0</td>\n",
       "      <td>0.0</td>\n",
       "      <td>0.0</td>\n",
       "      <td>0.0</td>\n",
       "      <td>0.0</td>\n",
       "      <td>0.0</td>\n",
       "    </tr>\n",
       "    <tr>\n",
       "      <th>co-expression</th>\n",
       "      <td>0.0</td>\n",
       "      <td>18.0</td>\n",
       "      <td>17.0</td>\n",
       "      <td>2.0</td>\n",
       "      <td>0.0</td>\n",
       "      <td>0.0</td>\n",
       "      <td>0.0</td>\n",
       "      <td>0.0</td>\n",
       "      <td>0.0</td>\n",
       "      <td>0.0</td>\n",
       "    </tr>\n",
       "    <tr>\n",
       "      <th>delta</th>\n",
       "      <td>0.0</td>\n",
       "      <td>0.0</td>\n",
       "      <td>2.0</td>\n",
       "      <td>175.0</td>\n",
       "      <td>0.0</td>\n",
       "      <td>0.0</td>\n",
       "      <td>0.0</td>\n",
       "      <td>0.0</td>\n",
       "      <td>0.0</td>\n",
       "      <td>0.0</td>\n",
       "    </tr>\n",
       "    <tr>\n",
       "      <th>ductal</th>\n",
       "      <td>0.0</td>\n",
       "      <td>5.0</td>\n",
       "      <td>3.0</td>\n",
       "      <td>0.0</td>\n",
       "      <td>208.0</td>\n",
       "      <td>0.0</td>\n",
       "      <td>0.0</td>\n",
       "      <td>0.0</td>\n",
       "      <td>1.0</td>\n",
       "      <td>3.0</td>\n",
       "    </tr>\n",
       "    <tr>\n",
       "      <th>endothelial</th>\n",
       "      <td>0.0</td>\n",
       "      <td>0.0</td>\n",
       "      <td>0.0</td>\n",
       "      <td>0.0</td>\n",
       "      <td>0.0</td>\n",
       "      <td>11.0</td>\n",
       "      <td>0.0</td>\n",
       "      <td>0.0</td>\n",
       "      <td>0.0</td>\n",
       "      <td>0.0</td>\n",
       "    </tr>\n",
       "    <tr>\n",
       "      <th>epsilon</th>\n",
       "      <td>0.0</td>\n",
       "      <td>0.0</td>\n",
       "      <td>0.0</td>\n",
       "      <td>0.0</td>\n",
       "      <td>0.0</td>\n",
       "      <td>0.0</td>\n",
       "      <td>3.0</td>\n",
       "      <td>0.0</td>\n",
       "      <td>0.0</td>\n",
       "      <td>0.0</td>\n",
       "    </tr>\n",
       "    <tr>\n",
       "      <th>gamma</th>\n",
       "      <td>0.0</td>\n",
       "      <td>1.0</td>\n",
       "      <td>5.0</td>\n",
       "      <td>0.0</td>\n",
       "      <td>1.0</td>\n",
       "      <td>0.0</td>\n",
       "      <td>0.0</td>\n",
       "      <td>80.0</td>\n",
       "      <td>0.0</td>\n",
       "      <td>0.0</td>\n",
       "    </tr>\n",
       "    <tr>\n",
       "      <th>mast</th>\n",
       "      <td>0.0</td>\n",
       "      <td>0.0</td>\n",
       "      <td>0.0</td>\n",
       "      <td>0.0</td>\n",
       "      <td>1.0</td>\n",
       "      <td>0.0</td>\n",
       "      <td>0.0</td>\n",
       "      <td>0.0</td>\n",
       "      <td>0.0</td>\n",
       "      <td>0.0</td>\n",
       "    </tr>\n",
       "    <tr>\n",
       "      <th>not applicable</th>\n",
       "      <td>6.0</td>\n",
       "      <td>192.0</td>\n",
       "      <td>42.0</td>\n",
       "      <td>12.0</td>\n",
       "      <td>22.0</td>\n",
       "      <td>9.0</td>\n",
       "      <td>0.0</td>\n",
       "      <td>19.0</td>\n",
       "      <td>2.0</td>\n",
       "      <td>1.0</td>\n",
       "    </tr>\n",
       "    <tr>\n",
       "      <th>unclassified endocrine</th>\n",
       "      <td>1.0</td>\n",
       "      <td>0.0</td>\n",
       "      <td>15.0</td>\n",
       "      <td>2.0</td>\n",
       "      <td>1.0</td>\n",
       "      <td>0.0</td>\n",
       "      <td>0.0</td>\n",
       "      <td>0.0</td>\n",
       "      <td>0.0</td>\n",
       "      <td>0.0</td>\n",
       "    </tr>\n",
       "  </tbody>\n",
       "</table>\n",
       "</div>"
      ],
      "text/plain": [
       "cell_type1                    acinar  alpha   beta  delta  ductal  \\\n",
       "      pred_cell_type                                                \n",
       "donor MHC class II               0.0    0.0    0.0    0.0     2.0   \n",
       "      PSC                        0.0    0.0    1.0    0.0     3.0   \n",
       "      acinar                   212.0    1.0    2.0    0.0     7.0   \n",
       "      alpha                      0.0  595.0    2.0    0.0     0.0   \n",
       "      beta                       0.0    0.0  359.0    2.0     0.0   \n",
       "      co-expression              0.0   18.0   17.0    2.0     0.0   \n",
       "      delta                      0.0    0.0    2.0  175.0     0.0   \n",
       "      ductal                     0.0    5.0    3.0    0.0   208.0   \n",
       "      endothelial                0.0    0.0    0.0    0.0     0.0   \n",
       "      epsilon                    0.0    0.0    0.0    0.0     0.0   \n",
       "      gamma                      0.0    1.0    5.0    0.0     1.0   \n",
       "      mast                       0.0    0.0    0.0    0.0     1.0   \n",
       "      not applicable             6.0  192.0   42.0   12.0    22.0   \n",
       "      unclassified endocrine     1.0    0.0   15.0    2.0     1.0   \n",
       "\n",
       "cell_type1                    endothelial  epsilon  gamma  mesenchymal  \\\n",
       "      pred_cell_type                                                     \n",
       "donor MHC class II                    0.0      0.0    0.0          0.0   \n",
       "      PSC                             1.0      0.0    0.0         77.0   \n",
       "      acinar                          0.0      0.0    2.0          0.0   \n",
       "      alpha                           0.0      0.0    0.0          0.0   \n",
       "      beta                            0.0      0.0    0.0          0.0   \n",
       "      co-expression                   0.0      0.0    0.0          0.0   \n",
       "      delta                           0.0      0.0    0.0          0.0   \n",
       "      ductal                          0.0      0.0    0.0          1.0   \n",
       "      endothelial                    11.0      0.0    0.0          0.0   \n",
       "      epsilon                         0.0      3.0    0.0          0.0   \n",
       "      gamma                           0.0      0.0   80.0          0.0   \n",
       "      mast                            0.0      0.0    0.0          0.0   \n",
       "      not applicable                  9.0      0.0   19.0          2.0   \n",
       "      unclassified endocrine          0.0      0.0    0.0          0.0   \n",
       "\n",
       "cell_type1                    unclear  \n",
       "      pred_cell_type                   \n",
       "donor MHC class II                0.0  \n",
       "      PSC                         0.0  \n",
       "      acinar                      0.0  \n",
       "      alpha                       0.0  \n",
       "      beta                        0.0  \n",
       "      co-expression               0.0  \n",
       "      delta                       0.0  \n",
       "      ductal                      3.0  \n",
       "      endothelial                 0.0  \n",
       "      epsilon                     0.0  \n",
       "      gamma                       0.0  \n",
       "      mast                        0.0  \n",
       "      not applicable              1.0  \n",
       "      unclassified endocrine      0.0  "
      ]
     },
     "execution_count": 243,
     "metadata": {},
     "output_type": "execute_result"
    }
   ],
   "source": [
    "m_sample_info \\\n",
    "    .groupby(['cell_type1', 'pred_cell_type']) \\\n",
    "    .count().iloc[:, [0]] \\\n",
    "    .unstack().T \\\n",
    "    .fillna(0)"
   ]
  },
  {
   "cell_type": "code",
   "execution_count": null,
   "metadata": {
    "collapsed": true
   },
   "outputs": [],
   "source": []
  },
  {
   "cell_type": "code",
   "execution_count": null,
   "metadata": {
    "collapsed": true
   },
   "outputs": [],
   "source": []
  },
  {
   "cell_type": "code",
   "execution_count": null,
   "metadata": {
    "collapsed": true
   },
   "outputs": [],
   "source": []
  },
  {
   "cell_type": "code",
   "execution_count": null,
   "metadata": {
    "collapsed": true
   },
   "outputs": [],
   "source": []
  }
 ],
 "metadata": {
  "kernelspec": {
   "display_name": "Python 3",
   "language": "python",
   "name": "python3"
  },
  "language_info": {
   "codemirror_mode": {
    "name": "ipython",
    "version": 3
   },
   "file_extension": ".py",
   "mimetype": "text/x-python",
   "name": "python",
   "nbconvert_exporter": "python",
   "pygments_lexer": "ipython3",
   "version": "3.6.0"
  }
 },
 "nbformat": 4,
 "nbformat_minor": 2
}
